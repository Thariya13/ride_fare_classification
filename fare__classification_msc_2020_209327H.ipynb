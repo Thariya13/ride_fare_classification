{
  "nbformat": 4,
  "nbformat_minor": 0,
  "metadata": {
    "colab": {
      "name": "fare_ classification_msc_2020_209327H",
      "provenance": [],
      "collapsed_sections": []
    },
    "kernelspec": {
      "name": "python3",
      "display_name": "Python 3"
    }
  },
  "cells": [
    {
      "cell_type": "code",
      "metadata": {
        "id": "ESI2s9CdCnuX",
        "colab_type": "code",
        "colab": {
          "base_uri": "https://localhost:8080/",
          "height": 107
        },
        "outputId": "a6ee70bf-a2fc-4b6b-8961-1cd46bc452f8"
      },
      "source": [
        "pip install haversine"
      ],
      "execution_count": 1,
      "outputs": [
        {
          "output_type": "stream",
          "text": [
            "Collecting haversine\n",
            "  Downloading https://files.pythonhosted.org/packages/72/8e/6df8b563dd6b2961a36cd740b34c00b89142f1b97d92092c133379b2973f/haversine-2.2.0-py2.py3-none-any.whl\n",
            "Installing collected packages: haversine\n",
            "Successfully installed haversine-2.2.0\n"
          ],
          "name": "stdout"
        }
      ]
    },
    {
      "cell_type": "code",
      "metadata": {
        "id": "aX3G90jvn5sW",
        "colab_type": "code",
        "colab": {
          "base_uri": "https://localhost:8080/",
          "height": 123
        },
        "outputId": "b12bfe45-8622-4edc-8a63-a2fa55b2047a"
      },
      "source": [
        "import numpy as np\n",
        "import pandas as pd\n",
        "import seaborn as sns\n",
        "import matplotlib.pyplot as plt\n",
        "import haversine as hs\n",
        "\n",
        "from subprocess import check_output\n",
        "# print(check_output([\"ls\", \"../input\"]).decode(\"utf8\"))\n",
        "print(check_output([\"ls\", \"./\"]).decode(\"utf8\")) "
      ],
      "execution_count": 14,
      "outputs": [
        {
          "output_type": "stream",
          "text": [
            "prediction.csv\n",
            "sample_data\n",
            "sample_submission.csv\n",
            "test.csv\n",
            "train.csv\n",
            "\n"
          ],
          "name": "stdout"
        }
      ]
    },
    {
      "cell_type": "code",
      "metadata": {
        "id": "U6as4TN_o9Nt",
        "colab_type": "code",
        "colab": {
          "base_uri": "https://localhost:8080/",
          "height": 390
        },
        "outputId": "1394aede-b507-4256-ff39-8b739dcc770c"
      },
      "source": [
        "data = pd.read_csv('./train.csv')\n",
        "# data.head()\n",
        "data.info()"
      ],
      "execution_count": 15,
      "outputs": [
        {
          "output_type": "stream",
          "text": [
            "<class 'pandas.core.frame.DataFrame'>\n",
            "RangeIndex: 17176 entries, 0 to 17175\n",
            "Data columns (total 14 columns):\n",
            " #   Column                     Non-Null Count  Dtype  \n",
            "---  ------                     --------------  -----  \n",
            " 0   tripid                     17176 non-null  int64  \n",
            " 1   additional_fare            16974 non-null  float64\n",
            " 2   duration                   16974 non-null  float64\n",
            " 3   meter_waiting              16974 non-null  float64\n",
            " 4   meter_waiting_fare         16974 non-null  float64\n",
            " 5   meter_waiting_till_pickup  16974 non-null  float64\n",
            " 6   pickup_time                17176 non-null  object \n",
            " 7   drop_time                  17176 non-null  object \n",
            " 8   pick_lat                   17176 non-null  float64\n",
            " 9   pick_lon                   17176 non-null  float64\n",
            " 10  drop_lat                   17176 non-null  float64\n",
            " 11  drop_lon                   17176 non-null  float64\n",
            " 12  fare                       17039 non-null  float64\n",
            " 13  label                      17176 non-null  object \n",
            "dtypes: float64(10), int64(1), object(3)\n",
            "memory usage: 1.8+ MB\n"
          ],
          "name": "stdout"
        }
      ]
    },
    {
      "cell_type": "code",
      "metadata": {
        "id": "RgDcfuoYbHet",
        "colab_type": "code",
        "colab": {
          "base_uri": "https://localhost:8080/",
          "height": 283
        },
        "outputId": "38b43dae-e532-4955-dd66-a21191c7637c"
      },
      "source": [
        "data.isnull().sum()"
      ],
      "execution_count": 16,
      "outputs": [
        {
          "output_type": "execute_result",
          "data": {
            "text/plain": [
              "tripid                         0\n",
              "additional_fare              202\n",
              "duration                     202\n",
              "meter_waiting                202\n",
              "meter_waiting_fare           202\n",
              "meter_waiting_till_pickup    202\n",
              "pickup_time                    0\n",
              "drop_time                      0\n",
              "pick_lat                       0\n",
              "pick_lon                       0\n",
              "drop_lat                       0\n",
              "drop_lon                       0\n",
              "fare                         137\n",
              "label                          0\n",
              "dtype: int64"
            ]
          },
          "metadata": {
            "tags": []
          },
          "execution_count": 16
        }
      ]
    },
    {
      "cell_type": "code",
      "metadata": {
        "id": "edYOcsnVhqK6",
        "colab_type": "code",
        "colab": {
          "base_uri": "https://localhost:8080/",
          "height": 283
        },
        "outputId": "718a8114-0dd9-4064-cdb4-b3969d500c2a"
      },
      "source": [
        "from datetime import datetime\n",
        "\n",
        "durations = []\n",
        "for row in data.iterrows():\n",
        "  rec = row[1]\n",
        "  duration = rec['duration']\n",
        "  if np.isnan(duration):\n",
        "    drop_time = datetime.strptime(rec['drop_time'], '%m/%d/%Y %H:%M')\n",
        "    pickup_time = datetime.strptime(rec['pickup_time'], '%m/%d/%Y %H:%M')\n",
        "    time_diff = drop_time - pickup_time\n",
        "    duration = time_diff.total_seconds()\n",
        "  durations.append(duration)\n",
        "data['duration'] = pd.Series(durations)\n",
        "\n",
        "def calc_mean(df, column_name):\n",
        "  return round(df[column_name].mean(), 3)\n",
        "\n",
        "def calc_mode(df, column_name):\n",
        "  col_mode = df[column_name].mode()\n",
        "  return col_mode[0]\n",
        "\n",
        "values = {'additional_fare': calc_mean(data, 'additional_fare'),\n",
        "          'meter_waiting': calc_mean(data, 'meter_waiting'), \n",
        "          'meter_waiting_fare': calc_mean(data, 'meter_waiting_fare'), \n",
        "          'meter_waiting_till_pickup': calc_mean(data, 'meter_waiting_till_pickup'), \n",
        "          'fare': calc_mean(data, 'fare')}\n",
        "          \n",
        "data.fillna(value=values, inplace=True)\n",
        "data.isnull().sum()\n",
        "# data.head(10)"
      ],
      "execution_count": 17,
      "outputs": [
        {
          "output_type": "execute_result",
          "data": {
            "text/plain": [
              "tripid                       0\n",
              "additional_fare              0\n",
              "duration                     0\n",
              "meter_waiting                0\n",
              "meter_waiting_fare           0\n",
              "meter_waiting_till_pickup    0\n",
              "pickup_time                  0\n",
              "drop_time                    0\n",
              "pick_lat                     0\n",
              "pick_lon                     0\n",
              "drop_lat                     0\n",
              "drop_lon                     0\n",
              "fare                         0\n",
              "label                        0\n",
              "dtype: int64"
            ]
          },
          "metadata": {
            "tags": []
          },
          "execution_count": 17
        }
      ]
    },
    {
      "cell_type": "code",
      "metadata": {
        "id": "gGUlRL1M3dA7",
        "colab_type": "code",
        "colab": {}
      },
      "source": [
        "# print(data['additional_fare'].mean(), data['additional_fare'].median(), data['additional_fare'].mode())"
      ],
      "execution_count": null,
      "outputs": []
    },
    {
      "cell_type": "code",
      "metadata": {
        "id": "3l3elHDXsHz3",
        "colab_type": "code",
        "colab": {
          "base_uri": "https://localhost:8080/",
          "height": 347
        },
        "outputId": "d567f027-b3c0-4a7c-81d1-619f7a7290c7"
      },
      "source": [
        "distance = []\n",
        "for row in data.iterrows():\n",
        "  record = row[1]\n",
        "  pick_loc = (record.pick_lat, record.pick_lon)\n",
        "  drop_loc = (record.drop_lat, record.drop_lon)\n",
        "  distance.append(hs.haversine(pick_loc, drop_loc))\n",
        "data['distance'] = pd.Series(distance)\n",
        "\n",
        "mapping = {'correct': 1, 'incorrect': 0}\n",
        "data = data.replace({'label': mapping})\n",
        "\n",
        "train_y = data.label\n",
        "\n",
        "list = ['tripid', 'pickup_time', 'drop_time', 'pick_lat', 'pick_lon', 'drop_lat', 'drop_lon', 'label']\n",
        "train_x = data.drop(list, axis=1)\n",
        "train_x.head(10)"
      ],
      "execution_count": 18,
      "outputs": [
        {
          "output_type": "execute_result",
          "data": {
            "text/html": [
              "<div>\n",
              "<style scoped>\n",
              "    .dataframe tbody tr th:only-of-type {\n",
              "        vertical-align: middle;\n",
              "    }\n",
              "\n",
              "    .dataframe tbody tr th {\n",
              "        vertical-align: top;\n",
              "    }\n",
              "\n",
              "    .dataframe thead th {\n",
              "        text-align: right;\n",
              "    }\n",
              "</style>\n",
              "<table border=\"1\" class=\"dataframe\">\n",
              "  <thead>\n",
              "    <tr style=\"text-align: right;\">\n",
              "      <th></th>\n",
              "      <th>additional_fare</th>\n",
              "      <th>duration</th>\n",
              "      <th>meter_waiting</th>\n",
              "      <th>meter_waiting_fare</th>\n",
              "      <th>meter_waiting_till_pickup</th>\n",
              "      <th>fare</th>\n",
              "      <th>distance</th>\n",
              "    </tr>\n",
              "  </thead>\n",
              "  <tbody>\n",
              "    <tr>\n",
              "      <th>0</th>\n",
              "      <td>10.50</td>\n",
              "      <td>834.0</td>\n",
              "      <td>56.000</td>\n",
              "      <td>0.0000</td>\n",
              "      <td>64.000</td>\n",
              "      <td>270.32</td>\n",
              "      <td>5.092777</td>\n",
              "    </tr>\n",
              "    <tr>\n",
              "      <th>1</th>\n",
              "      <td>10.50</td>\n",
              "      <td>791.0</td>\n",
              "      <td>47.000</td>\n",
              "      <td>0.0000</td>\n",
              "      <td>134.000</td>\n",
              "      <td>197.85</td>\n",
              "      <td>3.168062</td>\n",
              "    </tr>\n",
              "    <tr>\n",
              "      <th>2</th>\n",
              "      <td>10.50</td>\n",
              "      <td>1087.0</td>\n",
              "      <td>80.000</td>\n",
              "      <td>0.0000</td>\n",
              "      <td>61.000</td>\n",
              "      <td>301.64</td>\n",
              "      <td>6.305404</td>\n",
              "    </tr>\n",
              "    <tr>\n",
              "      <th>3</th>\n",
              "      <td>10.50</td>\n",
              "      <td>598.0</td>\n",
              "      <td>271.000</td>\n",
              "      <td>15.6638</td>\n",
              "      <td>68.000</td>\n",
              "      <td>82.30</td>\n",
              "      <td>0.861947</td>\n",
              "    </tr>\n",
              "    <tr>\n",
              "      <th>4</th>\n",
              "      <td>13.72</td>\n",
              "      <td>1020.0</td>\n",
              "      <td>629.074</td>\n",
              "      <td>32.0580</td>\n",
              "      <td>112.467</td>\n",
              "      <td>358.39</td>\n",
              "      <td>8.147793</td>\n",
              "    </tr>\n",
              "    <tr>\n",
              "      <th>5</th>\n",
              "      <td>10.50</td>\n",
              "      <td>3407.0</td>\n",
              "      <td>182.000</td>\n",
              "      <td>0.0000</td>\n",
              "      <td>112.000</td>\n",
              "      <td>1065.02</td>\n",
              "      <td>24.207073</td>\n",
              "    </tr>\n",
              "    <tr>\n",
              "      <th>6</th>\n",
              "      <td>10.50</td>\n",
              "      <td>1246.0</td>\n",
              "      <td>487.000</td>\n",
              "      <td>0.0000</td>\n",
              "      <td>133.000</td>\n",
              "      <td>266.62</td>\n",
              "      <td>4.777630</td>\n",
              "    </tr>\n",
              "    <tr>\n",
              "      <th>7</th>\n",
              "      <td>10.50</td>\n",
              "      <td>1333.0</td>\n",
              "      <td>295.000</td>\n",
              "      <td>17.1985</td>\n",
              "      <td>212.000</td>\n",
              "      <td>318.05</td>\n",
              "      <td>5.322551</td>\n",
              "    </tr>\n",
              "    <tr>\n",
              "      <th>8</th>\n",
              "      <td>10.50</td>\n",
              "      <td>360.0</td>\n",
              "      <td>80.000</td>\n",
              "      <td>4.6640</td>\n",
              "      <td>3.000</td>\n",
              "      <td>100.32</td>\n",
              "      <td>1.035303</td>\n",
              "    </tr>\n",
              "    <tr>\n",
              "      <th>9</th>\n",
              "      <td>10.50</td>\n",
              "      <td>1539.0</td>\n",
              "      <td>588.000</td>\n",
              "      <td>33.9864</td>\n",
              "      <td>43.000</td>\n",
              "      <td>257.89</td>\n",
              "      <td>2.930719</td>\n",
              "    </tr>\n",
              "  </tbody>\n",
              "</table>\n",
              "</div>"
            ],
            "text/plain": [
              "   additional_fare  duration  ...     fare   distance\n",
              "0            10.50     834.0  ...   270.32   5.092777\n",
              "1            10.50     791.0  ...   197.85   3.168062\n",
              "2            10.50    1087.0  ...   301.64   6.305404\n",
              "3            10.50     598.0  ...    82.30   0.861947\n",
              "4            13.72    1020.0  ...   358.39   8.147793\n",
              "5            10.50    3407.0  ...  1065.02  24.207073\n",
              "6            10.50    1246.0  ...   266.62   4.777630\n",
              "7            10.50    1333.0  ...   318.05   5.322551\n",
              "8            10.50     360.0  ...   100.32   1.035303\n",
              "9            10.50    1539.0  ...   257.89   2.930719\n",
              "\n",
              "[10 rows x 7 columns]"
            ]
          },
          "metadata": {
            "tags": []
          },
          "execution_count": 18
        }
      ]
    },
    {
      "cell_type": "code",
      "metadata": {
        "id": "bTKWHvDLxOzp",
        "colab_type": "code",
        "colab": {
          "base_uri": "https://localhost:8080/",
          "height": 265
        },
        "outputId": "e762d833-af03-4da7-ae4e-c841fffa0d48"
      },
      "source": [
        "train_x.info()"
      ],
      "execution_count": 19,
      "outputs": [
        {
          "output_type": "stream",
          "text": [
            "<class 'pandas.core.frame.DataFrame'>\n",
            "RangeIndex: 17176 entries, 0 to 17175\n",
            "Data columns (total 7 columns):\n",
            " #   Column                     Non-Null Count  Dtype  \n",
            "---  ------                     --------------  -----  \n",
            " 0   additional_fare            17176 non-null  float64\n",
            " 1   duration                   17176 non-null  float64\n",
            " 2   meter_waiting              17176 non-null  float64\n",
            " 3   meter_waiting_fare         17176 non-null  float64\n",
            " 4   meter_waiting_till_pickup  17176 non-null  float64\n",
            " 5   fare                       17176 non-null  float64\n",
            " 6   distance                   17176 non-null  float64\n",
            "dtypes: float64(7)\n",
            "memory usage: 939.4 KB\n"
          ],
          "name": "stdout"
        }
      ]
    },
    {
      "cell_type": "code",
      "metadata": {
        "id": "q08sk_Ge6Nn_",
        "colab_type": "code",
        "colab": {
          "base_uri": "https://localhost:8080/",
          "height": 315
        },
        "outputId": "dad1752e-a661-4829-bada-511145ab9d75"
      },
      "source": [
        "ax = sns.countplot(train_y, label=\"Count\")\n",
        "correct, incorrect = train_y.value_counts()\n",
        "print(\"correct: \", correct)\n",
        "print(\"incorrect: \", incorrect)"
      ],
      "execution_count": 20,
      "outputs": [
        {
          "output_type": "stream",
          "text": [
            "correct:  15495\n",
            "incorrect:  1681\n"
          ],
          "name": "stdout"
        },
        {
          "output_type": "display_data",
          "data": {
            "image/png": "[encoded data removed]",
            "text/plain": [
              "<Figure size 432x288 with 1 Axes>"
            ]
          },
          "metadata": {
            "tags": [],
            "needs_background": "light"
          }
        }
      ]
    },
    {
      "cell_type": "code",
      "metadata": {
        "id": "e1ylgRiq840D",
        "colab_type": "code",
        "colab": {
          "base_uri": "https://localhost:8080/",
          "height": 287
        },
        "outputId": "ac999c60-6203-47c3-fc88-0b34410ce8ef"
      },
      "source": [
        "train_x.describe()"
      ],
      "execution_count": 21,
      "outputs": [
        {
          "output_type": "execute_result",
          "data": {
            "text/html": [
              "<div>\n",
              "<style scoped>\n",
              "    .dataframe tbody tr th:only-of-type {\n",
              "        vertical-align: middle;\n",
              "    }\n",
              "\n",
              "    .dataframe tbody tr th {\n",
              "        vertical-align: top;\n",
              "    }\n",
              "\n",
              "    .dataframe thead th {\n",
              "        text-align: right;\n",
              "    }\n",
              "</style>\n",
              "<table border=\"1\" class=\"dataframe\">\n",
              "  <thead>\n",
              "    <tr style=\"text-align: right;\">\n",
              "      <th></th>\n",
              "      <th>additional_fare</th>\n",
              "      <th>duration</th>\n",
              "      <th>meter_waiting</th>\n",
              "      <th>meter_waiting_fare</th>\n",
              "      <th>meter_waiting_till_pickup</th>\n",
              "      <th>fare</th>\n",
              "      <th>distance</th>\n",
              "    </tr>\n",
              "  </thead>\n",
              "  <tbody>\n",
              "    <tr>\n",
              "      <th>count</th>\n",
              "      <td>17176.000000</td>\n",
              "      <td>17176.000000</td>\n",
              "      <td>17176.000000</td>\n",
              "      <td>17176.000000</td>\n",
              "      <td>17176.000000</td>\n",
              "      <td>17176.000000</td>\n",
              "      <td>17176.000000</td>\n",
              "    </tr>\n",
              "    <tr>\n",
              "      <th>mean</th>\n",
              "      <td>13.719655</td>\n",
              "      <td>1713.634898</td>\n",
              "      <td>629.074228</td>\n",
              "      <td>32.057670</td>\n",
              "      <td>112.466834</td>\n",
              "      <td>312.655463</td>\n",
              "      <td>4.858268</td>\n",
              "    </tr>\n",
              "    <tr>\n",
              "      <th>std</th>\n",
              "      <td>98.391294</td>\n",
              "      <td>8101.696673</td>\n",
              "      <td>8015.703284</td>\n",
              "      <td>462.738135</td>\n",
              "      <td>439.447558</td>\n",
              "      <td>602.881578</td>\n",
              "      <td>43.015910</td>\n",
              "    </tr>\n",
              "    <tr>\n",
              "      <th>min</th>\n",
              "      <td>0.000000</td>\n",
              "      <td>0.000000</td>\n",
              "      <td>0.000000</td>\n",
              "      <td>0.000000</td>\n",
              "      <td>0.000000</td>\n",
              "      <td>0.000000</td>\n",
              "      <td>0.000000</td>\n",
              "    </tr>\n",
              "    <tr>\n",
              "      <th>25%</th>\n",
              "      <td>10.500000</td>\n",
              "      <td>547.000000</td>\n",
              "      <td>33.000000</td>\n",
              "      <td>0.000000</td>\n",
              "      <td>26.000000</td>\n",
              "      <td>125.960000</td>\n",
              "      <td>1.486164</td>\n",
              "    </tr>\n",
              "    <tr>\n",
              "      <th>50%</th>\n",
              "      <td>10.500000</td>\n",
              "      <td>1012.000000</td>\n",
              "      <td>128.000000</td>\n",
              "      <td>0.233200</td>\n",
              "      <td>74.000000</td>\n",
              "      <td>213.010000</td>\n",
              "      <td>3.218387</td>\n",
              "    </tr>\n",
              "    <tr>\n",
              "      <th>75%</th>\n",
              "      <td>10.500000</td>\n",
              "      <td>1808.000000</td>\n",
              "      <td>367.000000</td>\n",
              "      <td>15.317000</td>\n",
              "      <td>143.000000</td>\n",
              "      <td>364.315000</td>\n",
              "      <td>6.161054</td>\n",
              "    </tr>\n",
              "    <tr>\n",
              "      <th>max</th>\n",
              "      <td>12795.030000</td>\n",
              "      <td>453872.000000</td>\n",
              "      <td>453650.000000</td>\n",
              "      <td>26198.601400</td>\n",
              "      <td>51288.000000</td>\n",
              "      <td>26945.990000</td>\n",
              "      <td>5609.529188</td>\n",
              "    </tr>\n",
              "  </tbody>\n",
              "</table>\n",
              "</div>"
            ],
            "text/plain": [
              "       additional_fare       duration  ...          fare      distance\n",
              "count     17176.000000   17176.000000  ...  17176.000000  17176.000000\n",
              "mean         13.719655    1713.634898  ...    312.655463      4.858268\n",
              "std          98.391294    8101.696673  ...    602.881578     43.015910\n",
              "min           0.000000       0.000000  ...      0.000000      0.000000\n",
              "25%          10.500000     547.000000  ...    125.960000      1.486164\n",
              "50%          10.500000    1012.000000  ...    213.010000      3.218387\n",
              "75%          10.500000    1808.000000  ...    364.315000      6.161054\n",
              "max       12795.030000  453872.000000  ...  26945.990000   5609.529188\n",
              "\n",
              "[8 rows x 7 columns]"
            ]
          },
          "metadata": {
            "tags": []
          },
          "execution_count": 21
        }
      ]
    },
    {
      "cell_type": "code",
      "metadata": {
        "id": "EPCaSvXd996l",
        "colab_type": "code",
        "colab": {}
      },
      "source": [
        "# data_y = train_y\n",
        "# data_x = train_x\n",
        "\n",
        "# data_n_2 =  (data_x - data_x.mean()) / (data_x.std()) # standardization\n",
        "# data_x = pd.concat([train_y, data_n_2], axis=1)\n",
        "# data_x = pd.melt(data_x, id_vars=\"label\", var_name=\"features\", value_name=\"value\")\n",
        "# plt.figure(figsize=(10,10))\n",
        "# sns.violinplot(x=\"features\", y=\"value\", hue=\"label\", data=data_x, split=True, inner=\"quart\")\n",
        "# plt.xticks(rotation=90)"
      ],
      "execution_count": null,
      "outputs": []
    },
    {
      "cell_type": "code",
      "metadata": {
        "id": "MtMCNl9RD6Zp",
        "colab_type": "code",
        "colab": {}
      },
      "source": [
        "# sns.set(style=\"whitegrid\", palette=\"muted\")\n",
        "# data_y = train_y\n",
        "# data_x = train_x\n",
        "\n",
        "# data_n_2 = (data_x - data_x.mean()) /(data_x.std()) # standardization\n",
        "# data_x = pd.concat([train_y, data_n_2], axis=1)\n",
        "# data_x = pd.melt(data_x, id_vars=\"label\", var_name=\"features\", value_name=\"value\")\n",
        "# plt.figure(figsize=(10,10))\n",
        "# # tic = time.time()\n",
        "# sns.swarmplot(x=\"features\", y=\"value\", hue=\"label\", data=data_x)\n",
        "# plt.xticks(rotation=90)"
      ],
      "execution_count": null,
      "outputs": []
    },
    {
      "cell_type": "code",
      "metadata": {
        "id": "ihgkAlfyIlPm",
        "colab_type": "code",
        "colab": {
          "base_uri": "https://localhost:8080/",
          "height": 1000
        },
        "outputId": "91be0b8c-5a1a-413e-96b0-687d27f9d8b2"
      },
      "source": [
        "#correlation map\n",
        "f,ax = plt.subplots(figsize=(18, 18))\n",
        "sns.heatmap(train_x.corr(), annot=True, linewidths=.5, fmt= '.1f',ax=ax)"
      ],
      "execution_count": 22,
      "outputs": [
        {
          "output_type": "execute_result",
          "data": {
            "text/plain": [
              "<matplotlib.axes._subplots.AxesSubplot at 0x7f8fb38fe160>"
            ]
          },
          "metadata": {
            "tags": []
          },
          "execution_count": 22
        },
        {
          "output_type": "display_data",
          "data": {
            "image/png": "[encoded data removed]",
            "text/plain": [
              "<Figure size 1296x1296 with 2 Axes>"
            ]
          },
          "metadata": {
            "tags": [],
            "needs_background": "light"
          }
        }
      ]
    },
    {
      "cell_type": "code",
      "metadata": {
        "id": "kwQE35vUJqhR",
        "colab_type": "code",
        "colab": {
          "base_uri": "https://localhost:8080/",
          "height": 197
        },
        "outputId": "441c7717-7220-4d0f-d7c1-d9d2a00cd43b"
      },
      "source": [
        "drop_list = ['meter_waiting_fare']\n",
        "train_x = train_x.drop(drop_list,axis = 1 )        # do not modify x, we will use it later \n",
        "train_x.head()"
      ],
      "execution_count": 11,
      "outputs": [
        {
          "output_type": "execute_result",
          "data": {
            "text/html": [
              "<div>\n",
              "<style scoped>\n",
              "    .dataframe tbody tr th:only-of-type {\n",
              "        vertical-align: middle;\n",
              "    }\n",
              "\n",
              "    .dataframe tbody tr th {\n",
              "        vertical-align: top;\n",
              "    }\n",
              "\n",
              "    .dataframe thead th {\n",
              "        text-align: right;\n",
              "    }\n",
              "</style>\n",
              "<table border=\"1\" class=\"dataframe\">\n",
              "  <thead>\n",
              "    <tr style=\"text-align: right;\">\n",
              "      <th></th>\n",
              "      <th>additional_fare</th>\n",
              "      <th>duration</th>\n",
              "      <th>meter_waiting</th>\n",
              "      <th>meter_waiting_till_pickup</th>\n",
              "      <th>fare</th>\n",
              "      <th>distance</th>\n",
              "    </tr>\n",
              "  </thead>\n",
              "  <tbody>\n",
              "    <tr>\n",
              "      <th>0</th>\n",
              "      <td>10.5</td>\n",
              "      <td>834.0</td>\n",
              "      <td>56.0</td>\n",
              "      <td>64.0</td>\n",
              "      <td>270.32</td>\n",
              "      <td>5.092777</td>\n",
              "    </tr>\n",
              "    <tr>\n",
              "      <th>1</th>\n",
              "      <td>10.5</td>\n",
              "      <td>791.0</td>\n",
              "      <td>47.0</td>\n",
              "      <td>134.0</td>\n",
              "      <td>197.85</td>\n",
              "      <td>3.168062</td>\n",
              "    </tr>\n",
              "    <tr>\n",
              "      <th>2</th>\n",
              "      <td>10.5</td>\n",
              "      <td>1087.0</td>\n",
              "      <td>80.0</td>\n",
              "      <td>61.0</td>\n",
              "      <td>301.64</td>\n",
              "      <td>6.305404</td>\n",
              "    </tr>\n",
              "    <tr>\n",
              "      <th>3</th>\n",
              "      <td>10.5</td>\n",
              "      <td>598.0</td>\n",
              "      <td>271.0</td>\n",
              "      <td>68.0</td>\n",
              "      <td>82.30</td>\n",
              "      <td>0.861947</td>\n",
              "    </tr>\n",
              "    <tr>\n",
              "      <th>4</th>\n",
              "      <td>0.0</td>\n",
              "      <td>1020.0</td>\n",
              "      <td>0.0</td>\n",
              "      <td>0.0</td>\n",
              "      <td>358.39</td>\n",
              "      <td>8.147793</td>\n",
              "    </tr>\n",
              "  </tbody>\n",
              "</table>\n",
              "</div>"
            ],
            "text/plain": [
              "   additional_fare  duration  ...    fare  distance\n",
              "0             10.5     834.0  ...  270.32  5.092777\n",
              "1             10.5     791.0  ...  197.85  3.168062\n",
              "2             10.5    1087.0  ...  301.64  6.305404\n",
              "3             10.5     598.0  ...   82.30  0.861947\n",
              "4              0.0    1020.0  ...  358.39  8.147793\n",
              "\n",
              "[5 rows x 6 columns]"
            ]
          },
          "metadata": {
            "tags": []
          },
          "execution_count": 11
        }
      ]
    },
    {
      "cell_type": "code",
      "metadata": {
        "id": "1B6Tywo-Miu6",
        "colab_type": "code",
        "colab": {
          "base_uri": "https://localhost:8080/",
          "height": 1000
        },
        "outputId": "d83882c8-a5cf-45b5-e65a-48cd32e12e4d"
      },
      "source": [
        "#correlation map\n",
        "f,ax = plt.subplots(figsize=(18, 18))\n",
        "sns.heatmap(train_x.corr(), annot=True, linewidths=.5, fmt= '.1f',ax=ax)"
      ],
      "execution_count": 12,
      "outputs": [
        {
          "output_type": "execute_result",
          "data": {
            "text/plain": [
              "<matplotlib.axes._subplots.AxesSubplot at 0x7fed78f343c8>"
            ]
          },
          "metadata": {
            "tags": []
          },
          "execution_count": 12
        },
        {
          "output_type": "display_data",
          "data": {
            "image/png": "[encoded data removed]",
            "text/plain": [
              "<Figure size 1296x1296 with 2 Axes>"
            ]
          },
          "metadata": {
            "tags": [],
            "needs_background": "light"
          }
        }
      ]
    },
    {
      "cell_type": "code",
      "metadata": {
        "id": "zuyWl1-QMyOc",
        "colab_type": "code",
        "colab": {}
      },
      "source": [
        "# from sklearn.model_selection import train_test_split\n",
        "# from sklearn.ensemble import RandomForestClassifier\n",
        "# from sklearn.metrics import f1_score,confusion_matrix\n",
        "# from sklearn.metrics import accuracy_score\n",
        "\n",
        "# # # split data train 70 % and test 30 %\n",
        "# # x_train, x_test, y_train, y_test = train_test_split(train_x, train_y, test_size=0.3, random_state=42)\n",
        "\n",
        "# #random forest classifier with n_estimators=10 (default)\n",
        "# clf_rf = RandomForestClassifier(random_state=43)      \n",
        "# clr_rf = clf_rf.fit(train_x,train_y)\n",
        "\n",
        "# # ac = accuracy_score(y_test,clf_rf.predict(x_test))\n",
        "# # print('Accuracy is: ',ac)\n",
        "# # cm = confusion_matrix(y_test,clf_rf.predict(x_test))\n",
        "# # sns.heatmap(cm,annot=True,fmt=\"d\")"
      ],
      "execution_count": 13,
      "outputs": []
    },
    {
      "cell_type": "code",
      "metadata": {
        "id": "_PRPLBeCluGq",
        "colab_type": "code",
        "colab": {
          "base_uri": "https://localhost:8080/",
          "height": 52
        },
        "outputId": "17ce2447-928f-4d5c-e9af-5565f2108e4b"
      },
      "source": [
        "from sklearn.feature_selection import RFECV\n",
        "from sklearn.ensemble import RandomForestClassifier\n",
        "\n",
        "# The \"accuracy\" scoring is proportional to the number of correct classifications\n",
        "clf_rf_2 = RandomForestClassifier()\n",
        "rfecv = RFECV(estimator=clf_rf_2, step=1, cv=5,scoring='accuracy')   #5-fold cross-validation\n",
        "rfecv = rfecv.fit(train_x, train_y)\n",
        "\n",
        "print('Optimal number of features :', rfecv.n_features_)\n",
        "print('Best features :', train_x.columns[rfecv.support_])"
      ],
      "execution_count": 27,
      "outputs": [
        {
          "output_type": "stream",
          "text": [
            "Optimal number of features : 4\n",
            "Best features : Index(['duration', 'meter_waiting', 'fare', 'distance'], dtype='object')\n"
          ],
          "name": "stdout"
        }
      ]
    },
    {
      "cell_type": "code",
      "metadata": {
        "id": "F5FaFdyUAIQc",
        "colab_type": "code",
        "colab": {
          "base_uri": "https://localhost:8080/",
          "height": 304
        },
        "outputId": "c3b66239-af6c-43d3-fd6f-99d78c6301d9"
      },
      "source": [
        "# Plot number of features VS. cross-validation scores\n",
        "import matplotlib.pyplot as plt\n",
        "plt.figure()\n",
        "plt.xlabel(\"Number of features selected\")\n",
        "plt.ylabel(\"Cross validation score of number of selected features\")\n",
        "plt.plot(range(1, len(rfecv.grid_scores_) + 1), rfecv.grid_scores_)\n",
        "plt.show()"
      ],
      "execution_count": 28,
      "outputs": [
        {
          "output_type": "display_data",
          "data": {
            "image/png": "[encoded data removed]",
            "text/plain": [
              "<Figure size 432x288 with 1 Axes>"
            ]
          },
          "metadata": {
            "tags": [],
            "needs_background": "light"
          }
        }
      ]
    },
    {
      "cell_type": "code",
      "metadata": {
        "id": "Di6opra6SIq2",
        "colab_type": "code",
        "colab": {}
      },
      "source": [
        "test_x = pd.read_csv(\"./test.csv\")\n",
        "\n",
        "distance = []\n",
        "for row in test_x.iterrows():\n",
        "  record = row[1]\n",
        "  pick_loc = (record.pick_lat, record.pick_lon)\n",
        "  drop_loc = (record.drop_lat, record.drop_lon)\n",
        "  # print(hs.haversine(pick_loc, drop_loc))\n",
        "  distance.append(hs.haversine(pick_loc, drop_loc))\n",
        "test_x['distance'] = pd.Series(distance)\n",
        "\n",
        "# drop_list2 = ['tripid', 'meter_waiting_fare', 'pickup_time', 'drop_time', 'pick_lat', 'pick_lon', 'drop_lat', 'drop_lon']\n",
        "drop_list2 = ['tripid', 'pickup_time', 'drop_time', 'pick_lat', 'pick_lon', 'drop_lat', 'drop_lon']\n",
        "test_x = test_x.drop(drop_list2, axis=1)\n",
        "\n",
        "# pred_y = clr_rf.predict(test_x)\n",
        "pred_y = rfecv.predict(test_x)\n",
        "\n",
        "pred_result = pd.read_csv(\"sample_submission.csv\")\n",
        "pred_result[\"prediction\"] = pred_y\n",
        "\n",
        "pred_result.to_csv(\"prediction.csv\", index=False)\n"
      ],
      "execution_count": 29,
      "outputs": []
    }
  ]
}